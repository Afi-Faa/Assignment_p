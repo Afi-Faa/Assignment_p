{
 "cells": [
  {
   "cell_type": "code",
   "execution_count": 9,
   "id": "8ad57979-6cbd-420e-bf77-c7b8ee13bbf5",
   "metadata": {},
   "outputs": [
    {
     "name": "stdin",
     "output_type": "stream",
     "text": [
      " 3\n",
      " 4\n"
     ]
    },
    {
     "name": "stdout",
     "output_type": "stream",
     "text": [
      "After swapping\n",
      "a: 4 \n",
      "b: 3\n"
     ]
    }
   ],
   "source": [
    "# 1.Write a program that swaps the values of two variables.\n",
    "a = int(input())\n",
    "b = int(input())\n",
    "a,b = b,a\n",
    "print(\"After swapping\\na:\",a ,\"\\nb:\", b)"
   ]
  },
  {
   "cell_type": "code",
   "execution_count": 11,
   "id": "ee566783-8872-4b19-83d0-854a680882ed",
   "metadata": {},
   "outputs": [
    {
     "name": "stdin",
     "output_type": "stream",
     "text": [
      " 4\n",
      " 5\n"
     ]
    },
    {
     "name": "stdout",
     "output_type": "stream",
     "text": [
      "The area of a Triangular is: 10.0\n"
     ]
    }
   ],
   "source": [
    "#2. Write a program that calculates the area of a rectangle given its length and width.\n",
    "l = float(input())\n",
    "w = float(input())\n",
    "area = 0.5 * l * w\n",
    "print(\"The area of a Triangular is:\",area)"
   ]
  },
  {
   "cell_type": "code",
   "execution_count": 21,
   "id": "07657b13-22fa-49be-9cfa-956ab4de4193",
   "metadata": {},
   "outputs": [
    {
     "name": "stdin",
     "output_type": "stream",
     "text": [
      " 75\n"
     ]
    },
    {
     "name": "stdout",
     "output_type": "stream",
     "text": [
      "Fahrenheit to Celsius: 23.89 deg\n"
     ]
    }
   ],
   "source": [
    "#Write a program that converts temperature from Fahrenheit to Celsius.\n",
    "f = float(input())\n",
    "c = (f-32)*5/9\n",
    "c = round(c,2)\n",
    "print(\"Fahrenheit to Celsius:\",c,\"deg\")"
   ]
  },
  {
   "cell_type": "code",
   "execution_count": 29,
   "id": "c6882569-44f6-446d-888b-40668088c6c9",
   "metadata": {},
   "outputs": [
    {
     "name": "stdin",
     "output_type": "stream",
     "text": [
      " 4\n"
     ]
    },
    {
     "name": "stdout",
     "output_type": "stream",
     "text": [
      "the volume of a sphere 268.083\n"
     ]
    }
   ],
   "source": [
    "# 4. Write a program that calculates the volume of a sphere given its radius.\n",
    "import math\n",
    "r = float(input())\n",
    "v = (4/3)*math.pi*(r**3)\n",
    "v = round(v,3)\n",
    "print(\"the volume of a sphere\",v)"
   ]
  },
  {
   "cell_type": "code",
   "execution_count": 37,
   "id": "56f80e54-2758-4d79-9401-c41b0e2b0049",
   "metadata": {},
   "outputs": [
    {
     "name": "stdin",
     "output_type": "stream",
     "text": [
      " 4\n",
      " 4\n",
      " 4\n"
     ]
    },
    {
     "name": "stdout",
     "output_type": "stream",
     "text": [
      " the average of three numbers: 4.0\n"
     ]
    }
   ],
   "source": [
    "#Write a program that finds the average of three numbers.\n",
    "a = float(input())\n",
    "b = float(input())\n",
    "c = float(input())\n",
    "avg = (a+b+c)/3\n",
    "avg = round(avg,2)\n",
    "print(\" the average of three numbers:\",avg)\n"
   ]
  },
  {
   "cell_type": "code",
   "execution_count": 3,
   "id": "8410c67a-0e7a-424e-9ff9-a68210765f98",
   "metadata": {},
   "outputs": [
    {
     "name": "stdin",
     "output_type": "stream",
     "text": [
      " 124\n"
     ]
    },
    {
     "name": "stdout",
     "output_type": "stream",
     "text": [
      "It's a even number\n"
     ]
    }
   ],
   "source": [
    "#6. Write a program that determines if a number is even or odd.\n",
    "a = int(input())\n",
    "if a%2==0:\n",
    "    print(\"It's a even number\")\n",
    "else:\n",
    "    print(\"It's a odd number\")"
   ]
  },
  {
   "cell_type": "code",
   "execution_count": 7,
   "id": "dcc6479e-9e32-478c-a42b-b06d2c3075eb",
   "metadata": {},
   "outputs": [
    {
     "name": "stdin",
     "output_type": "stream",
     "text": [
      " 23\n",
      " 98\n",
      " 54\n"
     ]
    },
    {
     "name": "stdout",
     "output_type": "stream",
     "text": [
      "The maximum number is: 98\n"
     ]
    }
   ],
   "source": [
    "#7. Write a program that finds the maximum of three numbers.\n",
    "a = int(input())\n",
    "b = int(input())\n",
    "c = int(input())\n",
    "m = max(a,b,c)\n",
    "print(\"The maximum number is:\",m)"
   ]
  },
  {
   "cell_type": "code",
   "execution_count": 17,
   "id": "7a303a40-0d89-4357-aa42-9a8c4f2f469f",
   "metadata": {},
   "outputs": [
    {
     "name": "stdin",
     "output_type": "stream",
     "text": [
      " 2025\n"
     ]
    },
    {
     "name": "stdout",
     "output_type": "stream",
     "text": [
      "2025 is not a Leap year\n"
     ]
    }
   ],
   "source": [
    "#8. Write a program that determines if a year is a leap year or not.\n",
    "y = int(input())\n",
    "if y%4==0 and y%100!=0 or y%400==0:\n",
    "    print(y,\"is a Leap year\")\n",
    "else:\n",
    "     print(y,\"is not a Leap year\")"
   ]
  },
  {
   "cell_type": "code",
   "execution_count": 23,
   "id": "854ce60e-0c65-4686-a6d7-6b7ee60640a0",
   "metadata": {},
   "outputs": [
    {
     "name": "stdin",
     "output_type": "stream",
     "text": [
      " -45\n"
     ]
    },
    {
     "name": "stdout",
     "output_type": "stream",
     "text": [
      "-45 is a Negative number\n"
     ]
    }
   ],
   "source": [
    "#9. Write a program that determines if a number is positive, negative, or zero.\n",
    "n = int(input())\n",
    "if n==0:\n",
    "    print(n,\"is a Zero\")\n",
    "elif n>0:\n",
    "    print(n,\"is a Positive number\")\n",
    "else:\n",
    "    print(n,\"is a Negative number\")"
   ]
  },
  {
   "cell_type": "code",
   "execution_count": 35,
   "id": "f0d220ea-666b-4705-8ade-4180d0ad5f32",
   "metadata": {},
   "outputs": [
    {
     "name": "stdin",
     "output_type": "stream",
     "text": [
      " 48\n"
     ]
    },
    {
     "name": "stdout",
     "output_type": "stream",
     "text": [
      "E\n"
     ]
    }
   ],
   "source": [
    "#10. Write a program that calculates the grade based on a given percentage.\n",
    "p = int(input())\n",
    "if p>= 90:\n",
    "    print(\"A\")\n",
    "elif p>= 80:\n",
    "    print(\"B\")\n",
    "elif p>= 70:\n",
    "    print(\"C\")\n",
    "elif p>= 60:\n",
    "    print(\"D\")\n",
    "elif p>= 30 and p<=50:\n",
    "    print(\"E\")\n",
    "else:\n",
    "    print(\"F\")"
   ]
  },
  {
   "cell_type": "code",
   "execution_count": 39,
   "id": "a6c2ed7a-7a12-477c-aefb-dc0c38709d9f",
   "metadata": {},
   "outputs": [
    {
     "name": "stdin",
     "output_type": "stream",
     "text": [
      " 12\n"
     ]
    },
    {
     "name": "stdout",
     "output_type": "stream",
     "text": [
      "0\n",
      "1\n",
      "2\n",
      "3\n",
      "4\n",
      "5\n",
      "6\n",
      "7\n",
      "8\n",
      "9\n",
      "10\n",
      "11\n",
      "12\n"
     ]
    }
   ],
   "source": [
    "#11. Write a program that prints the first `n` natural numbers.\n",
    "n = int(input())\n",
    "for i in range(n+1): ##Including n\n",
    "    print(i)"
   ]
  },
  {
   "cell_type": "code",
   "execution_count": 49,
   "id": "94e4224a-ab48-4c95-bac9-e7ce9fcf8a86",
   "metadata": {},
   "outputs": [
    {
     "name": "stdin",
     "output_type": "stream",
     "text": [
      " 5\n"
     ]
    },
    {
     "name": "stdout",
     "output_type": "stream",
     "text": [
      "120\n"
     ]
    }
   ],
   "source": [
    "#12. Write a program that calculates the factorial of a number.\n",
    "n = int(input())\n",
    "r = 1\n",
    "for i in range(1,n+1):\n",
    "    r *= i\n",
    "print(r)"
   ]
  },
  {
   "cell_type": "code",
   "execution_count": 51,
   "id": "2c5fb236-1ff9-4d0e-8114-70b585994e0c",
   "metadata": {},
   "outputs": [
    {
     "name": "stdin",
     "output_type": "stream",
     "text": [
      " 5\n"
     ]
    },
    {
     "name": "stdout",
     "output_type": "stream",
     "text": [
      "0 1 1 2 3 "
     ]
    }
   ],
   "source": [
    "#13. Write a program that generates a Fibonacci sequence of length `n`.\n",
    "n = int(input())\n",
    "a = 0\n",
    "b = 1\n",
    "for i in range(n):\n",
    "    print(a, end=' ')\n",
    "    a,b=b,a+b"
   ]
  },
  {
   "cell_type": "code",
   "execution_count": 3,
   "id": "50b575c2-783c-441a-9279-f2bb65aef2bb",
   "metadata": {},
   "outputs": [
    {
     "name": "stdin",
     "output_type": "stream",
     "text": [
      " 0\n"
     ]
    },
    {
     "name": "stdout",
     "output_type": "stream",
     "text": [
      "its not a prime number\n"
     ]
    }
   ],
   "source": [
    "#14. Write a program that checks if a given number is prime or not.\n",
    "n = int(input())\n",
    "f = False\n",
    "if n<=1:\n",
    "    f = True\n",
    "else:\n",
    "    for i in range(2,n):\n",
    "        if n%i == 0:\n",
    "            f = True\n",
    "            break\n",
    "if f:\n",
    "    print(\"its not a prime number\")\n",
    "else:\n",
    "    print(\"its a prime number\")"
   ]
  },
  {
   "cell_type": "code",
   "execution_count": 65,
   "id": "4a152ac7-524c-4868-962f-f6752e8ad452",
   "metadata": {},
   "outputs": [
    {
     "name": "stdin",
     "output_type": "stream",
     "text": [
      " 5\n"
     ]
    },
    {
     "name": "stdout",
     "output_type": "stream",
     "text": [
      "1 * 5 = 5\n",
      "2 * 5 = 10\n",
      "3 * 5 = 15\n",
      "4 * 5 = 20\n",
      "5 * 5 = 25\n",
      "6 * 5 = 30\n",
      "7 * 5 = 35\n",
      "8 * 5 = 40\n",
      "9 * 5 = 45\n",
      "10 * 5 = 50\n"
     ]
    }
   ],
   "source": [
    "#15. Write a program that prints the multiplication table of a given number.\n",
    "n = int(input())\n",
    "for i in range(1,11):\n",
    "    print(i,\"*\",n,\"=\",i*n)"
   ]
  },
  {
   "cell_type": "code",
   "execution_count": 6,
   "id": "30218ef1-cd02-41be-b8f6-987fb6a278f3",
   "metadata": {},
   "outputs": [
    {
     "name": "stdin",
     "output_type": "stream",
     "text": [
      " 10\n"
     ]
    },
    {
     "name": "stdout",
     "output_type": "stream",
     "text": [
      "30\n"
     ]
    }
   ],
   "source": [
    "#16. Write a program that finds the sum of all even numbers between 1 and `n`.\n",
    "n = int(input())\n",
    "sum = 0\n",
    "while n>0:\n",
    "    if n%2==0:\n",
    "        sum += n\n",
    "    n -=1\n",
    "print(sum) "
   ]
  },
  {
   "cell_type": "code",
   "execution_count": 95,
   "id": "a8b6b44a-b04f-4d2a-9fe2-be8a2093e2a9",
   "metadata": {},
   "outputs": [
    {
     "name": "stdin",
     "output_type": "stream",
     "text": [
      " 12\n"
     ]
    },
    {
     "name": "stdout",
     "output_type": "stream",
     "text": [
      "21\n"
     ]
    }
   ],
   "source": [
    "#17. Write a program that reverses a given number.\n",
    "n = int(input())\n",
    "r = 0\n",
    "while n>0:\n",
    "    d = n%10\n",
    "    r  = r*10 + d\n",
    "    n = n//10\n",
    "print(r)"
   ]
  },
  {
   "cell_type": "code",
   "execution_count": 2,
   "id": "131df5a2-45f9-43e6-845e-c3debbc36bed",
   "metadata": {},
   "outputs": [
    {
     "name": "stdin",
     "output_type": "stream",
     "text": [
      " Afifa\n"
     ]
    },
    {
     "name": "stdout",
     "output_type": "stream",
     "text": [
      "yes afifa is a palindrome\n"
     ]
    }
   ],
   "source": [
    "#18. Write a program that checks if a given string, is a palindrome.\n",
    "p = input().lower()\n",
    "while p!=0:\n",
    "    if p == p[::-1]:\n",
    "        print(\"yes\" ,p,\"is a palindrome\")\n",
    "        break\n",
    "    else:\n",
    "        print(p,\"is not a palindrome\")"
   ]
  },
  {
   "cell_type": "code",
   "execution_count": 103,
   "id": "828b3b32-4090-4ebf-8919-02d0bc498eff",
   "metadata": {},
   "outputs": [
    {
     "name": "stdin",
     "output_type": "stream",
     "text": [
      " 34\n"
     ]
    },
    {
     "name": "stdout",
     "output_type": "stream",
     "text": [
      "Guess Higher\n"
     ]
    },
    {
     "name": "stdin",
     "output_type": "stream",
     "text": [
      " 56\n"
     ]
    },
    {
     "name": "stdout",
     "output_type": "stream",
     "text": [
      "Guess Higher\n"
     ]
    },
    {
     "name": "stdin",
     "output_type": "stream",
     "text": [
      " 43\n"
     ]
    },
    {
     "name": "stdout",
     "output_type": "stream",
     "text": [
      "Guess Higher\n"
     ]
    },
    {
     "name": "stdin",
     "output_type": "stream",
     "text": [
      " 78\n"
     ]
    },
    {
     "name": "stdout",
     "output_type": "stream",
     "text": [
      "Guess Higher\n"
     ]
    },
    {
     "name": "stdin",
     "output_type": "stream",
     "text": [
      " 90\n"
     ]
    },
    {
     "name": "stdout",
     "output_type": "stream",
     "text": [
      "Guess Lower\n"
     ]
    },
    {
     "name": "stdin",
     "output_type": "stream",
     "text": [
      " 89\n"
     ]
    },
    {
     "name": "stdout",
     "output_type": "stream",
     "text": [
      "Guess Lower\n"
     ]
    },
    {
     "name": "stdin",
     "output_type": "stream",
     "text": [
      " 88\n"
     ]
    },
    {
     "name": "stdout",
     "output_type": "stream",
     "text": [
      "Guess Lower\n"
     ]
    },
    {
     "name": "stdin",
     "output_type": "stream",
     "text": [
      " 85\n"
     ]
    },
    {
     "name": "stdout",
     "output_type": "stream",
     "text": [
      "Guess Lower\n"
     ]
    },
    {
     "name": "stdin",
     "output_type": "stream",
     "text": [
      " 80\n"
     ]
    },
    {
     "name": "stdout",
     "output_type": "stream",
     "text": [
      "Guess Higher\n"
     ]
    },
    {
     "name": "stdin",
     "output_type": "stream",
     "text": [
      " 81\n"
     ]
    },
    {
     "name": "stdout",
     "output_type": "stream",
     "text": [
      "Guess Higher\n"
     ]
    },
    {
     "name": "stdin",
     "output_type": "stream",
     "text": [
      " 83\n"
     ]
    },
    {
     "name": "stdout",
     "output_type": "stream",
     "text": [
      "Guess Lower\n"
     ]
    },
    {
     "name": "stdin",
     "output_type": "stream",
     "text": [
      " 82\n"
     ]
    },
    {
     "name": "stdout",
     "output_type": "stream",
     "text": [
      "You guessed it 12 th arrempts\n"
     ]
    }
   ],
   "source": [
    "#19. Write a program that generates a random number and allows the user to guess it.\n",
    "import random\n",
    "n = random.randint(1,100)\n",
    "g = int(input())\n",
    "i = 1\n",
    "while g != n:\n",
    "    if g > n:\n",
    "        print(\"Guess Lower\")\n",
    "    else:\n",
    "        print(\"Guess Higher\")\n",
    "    g = int(input())\n",
    "    i +=1\n",
    "print(\"You guessed it\", i , \"th attempts\")"
   ]
  },
  {
   "cell_type": "code",
   "execution_count": 107,
   "id": "59e69839-24f8-4219-8097-41e42e4612e8",
   "metadata": {},
   "outputs": [
    {
     "name": "stdin",
     "output_type": "stream",
     "text": [
      " 12\n",
      " 24\n"
     ]
    },
    {
     "name": "stdout",
     "output_type": "stream",
     "text": [
      "GCD: 12\n"
     ]
    }
   ],
   "source": [
    "#20. Write a program that finds the greatest common divisor (GCD) of two numbers.\n",
    "a = int(input())\n",
    "b = int(input())\n",
    "if a<b:\n",
    "    a,b = b,a\n",
    "while b!= 0:\n",
    "    t = b\n",
    "    b = a%b\n",
    "    a = t\n",
    "print(\"GCD:\",a)"
   ]
  },
  {
   "cell_type": "code",
   "execution_count": null,
   "id": "3ca20baa-e09b-4afb-b0bc-8dd41472ce99",
   "metadata": {},
   "outputs": [],
   "source": []
  }
 ],
 "metadata": {
  "kernelspec": {
   "display_name": "Python 3 (ipykernel)",
   "language": "python",
   "name": "python3"
  },
  "language_info": {
   "codemirror_mode": {
    "name": "ipython",
    "version": 3
   },
   "file_extension": ".py",
   "mimetype": "text/x-python",
   "name": "python",
   "nbconvert_exporter": "python",
   "pygments_lexer": "ipython3",
   "version": "3.12.4"
  }
 },
 "nbformat": 4,
 "nbformat_minor": 5
}
